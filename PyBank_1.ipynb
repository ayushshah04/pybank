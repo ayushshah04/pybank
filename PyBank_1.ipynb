{
 "cells": [
  {
   "cell_type": "code",
   "execution_count": 1,
   "id": "d27bd6b5-11e2-4070-b2fc-a4185a755ebb",
   "metadata": {},
   "outputs": [
    {
     "name": "stdout",
     "output_type": "stream",
     "text": [
      "Total Months :86\n",
      "Total Net amount :38382578\n"
     ]
    }
   ],
   "source": [
    "import csv \n",
    "line_num = 0\n",
    "months = []\n",
    "total_amount = []\n",
    "with open('budget_data.csv','r') as csvfile:\n",
    "    reader = csv.reader(csvfile, delimiter = ',')\n",
    "    header = next(reader)\n",
    "    line_num +=1\n",
    "    for row in reader:\n",
    "            month = row[0]\n",
    "            months.append(month)\n",
    "            amount =int(row[1])\n",
    "            total_amount.append(amount)\n",
    "total_months = len(months)\n",
    "net_amount=sum(total_amount)\n",
    "average = round(net_amount/total_months,2)\n",
    "print(f\"Total Months :{total_months}\")\n",
    "print(f\"Total Net amount :{net_amount}\")"
   ]
  },
  {
   "cell_type": "code",
   "execution_count": 3,
   "id": "d5a96e7c-6164-4aca-a67d-4ee899cca9d4",
   "metadata": {},
   "outputs": [
    {
     "name": "stdout",
     "output_type": "stream",
     "text": [
      "[116771, -662642, -391430, 379920, 212354, 510239, -428211, -821271, 693918, 416278, -974163, 860159, -1115009, 1033048, 95318, -308093, 99052, -521393, 605450, 231727, -65187, -702716, 177975, -1065544, 1926159, -917805, 898730, -334262, -246499, -64055, -1529236, 1497596, 304914, -635801, 398319, -183161, -37864, -253689, 403655, 94168, 306877, -83000, 210462, -2196167, 1465222, -956983, 1838447, -468003, -64602, 206242, -242155, -449079, 315198, 241099, 111540, 365942, -219310, -368665, 409837, 151210, -110244, -341938, -1212159, 683246, -70825, 335594, 417334, -272194, -236462, 657432, -211262, -128237, -1750387, 925441, 932089, -311434, 267252, -1876758, 1733696, 198551, -665765, 693229, -734926, 77242, 532869]\n",
      "-2288\n",
      "1926159\n",
      "-2196167\n"
     ]
    }
   ],
   "source": [
    "change = []\n",
    "for i in range(len(total_amount)-1):\n",
    "    change.append(total_amount[i+1]-total_amount[i])\n",
    "        \n",
    "print(change)\n",
    "max_increase_value = max(change)\n",
    "min_decrease_value = min(change)\n",
    "total_change=sum(change)\n",
    "average_change = round(total_change/total_months)\n",
    "print(average_change)\n",
    "print(max_increase_value)\n",
    "print(min_decrease_value)"
   ]
  },
  {
   "cell_type": "code",
   "execution_count": null,
   "id": "e1247f22-745f-4ebb-8436-22376a06bae7",
   "metadata": {},
   "outputs": [],
   "source": []
  }
 ],
 "metadata": {
  "kernelspec": {
   "display_name": "Python 3",
   "language": "python",
   "name": "python3"
  },
  "language_info": {
   "codemirror_mode": {
    "name": "ipython",
    "version": 3
   },
   "file_extension": ".py",
   "mimetype": "text/x-python",
   "name": "python",
   "nbconvert_exporter": "python",
   "pygments_lexer": "ipython3",
   "version": "3.8.5"
  }
 },
 "nbformat": 4,
 "nbformat_minor": 5
}
