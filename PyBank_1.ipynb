{
 "cells": [
  {
   "cell_type": "code",
   "execution_count": 76,
   "id": "d27bd6b5-11e2-4070-b2fc-a4185a755ebb",
   "metadata": {},
   "outputs": [],
   "source": [
    "import csv \n",
    "line_num = 0\n",
    "months = []\n",
    "total_amount = []\n",
    "change = []\n",
    "both_value = []\n",
    "with open('budget_data.csv','r') as csvfile:\n",
    "    reader = csv.reader(csvfile, delimiter = ',')\n",
    "    header = next(reader)\n",
    "    line_num +=1\n",
    "    for row in reader:\n",
    "            month = row[0]\n",
    "            months.append(month)\n",
    "            amount =int(row[1])\n",
    "            total_amount.append(amount)\n",
    "            both_value =value.append(value)\n",
    "total_months = len(months)\n",
    "net_amount=sum(total_amount)\n",
    "average = round(net_amount/total_months,2)\n",
    "for i in range(len(total_amount)-1):\n",
    "    change.append(total_amount[i+1]-total_amount[i])\n",
    "        \n",
    "max_increase_value = max(change)\n",
    "min_decrease_value = min(change)\n",
    "total_change=sum(change)\n",
    "average_change = round(total_change/total_months,2)\n",
    "with open('out_put.txt',\"w\") as file:\n",
    "        file.write(\"Financial Analysis\")\n",
    "        file.write(\"\\n\")\n",
    "        file.write(f\"Greatest Increase in Profits : $ {max_increase_value}\")\n",
    "        file.write(\"\\n\")\n",
    "        file.write(f\"Greatest Decrease in Profits : $ {min_decrease_value}\")\n",
    "        file.write(\"\\n\")\n",
    "        file.write(f\"Total Months :{total_months}\")\n",
    "        file.write(\"\\n\")\n",
    "        file.write(f\"Total Net amount :{net_amount}\")\n",
    "        "
   ]
  },
  {
   "cell_type": "code",
   "execution_count": null,
   "id": "c31cee3c-9637-4b12-9f10-69a67b9b0c46",
   "metadata": {},
   "outputs": [],
   "source": []
  },
  {
   "cell_type": "code",
   "execution_count": null,
   "id": "237e6081-7a68-49cb-81ab-a9805ab1a1f5",
   "metadata": {},
   "outputs": [],
   "source": []
  }
 ],
 "metadata": {
  "kernelspec": {
   "display_name": "Python 3",
   "language": "python",
   "name": "python3"
  },
  "language_info": {
   "codemirror_mode": {
    "name": "ipython",
    "version": 3
   },
   "file_extension": ".py",
   "mimetype": "text/x-python",
   "name": "python",
   "nbconvert_exporter": "python",
   "pygments_lexer": "ipython3",
   "version": "3.8.5"
  }
 },
 "nbformat": 4,
 "nbformat_minor": 5
}
